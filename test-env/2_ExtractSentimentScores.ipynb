{
 "cells": [
  {
   "cell_type": "code",
   "execution_count": 1,
   "id": "b23c6c98",
   "metadata": {},
   "outputs": [
    {
     "name": "stderr",
     "output_type": "stream",
     "text": [
      "[nltk_data] Downloading package stopwords to /Users/andre/nltk_data...\n",
      "[nltk_data]   Package stopwords is already up-to-date!\n"
     ]
    }
   ],
   "source": [
    "import os\n",
    "import datetime\n",
    "import string\n",
    "import re\n",
    "import numpy as np\n",
    "import pandas as pd\n",
    "import gdown\n",
    "import nltk\n",
    "nltk.download('stopwords')\n",
    "from gensim.parsing.preprocessing import remove_stopwords\n",
    "from textblob import TextBlob\n",
    "\n",
    "from wordcloud import WordCloud, STOPWORDS\n",
    "import matplotlib.pyplot as plt\n",
    "\n",
    "from PIL import Image"
   ]
  },
  {
   "cell_type": "code",
   "execution_count": 2,
   "id": "5cce30e1",
   "metadata": {},
   "outputs": [],
   "source": [
    "data_url = \"https://drive.google.com/drive/folders/1zQGlgh5kHTXSq7eoyXf6i_uAWYFJ5xzx?usp=share_link\"\n",
    "\n",
    "current_path = os.getcwd()\n",
    "\n",
    "data_folder_path = os.path.join(os.getcwd(), 'genie_data')"
   ]
  },
  {
   "cell_type": "code",
   "execution_count": 4,
   "id": "3c7c12c7",
   "metadata": {},
   "outputs": [
    {
     "name": "stdout",
     "output_type": "stream",
     "text": [
      "Downloading data from Google Drive to /Users/andre/dev/AIAgentPortfolio/test-env/genie_data\n"
     ]
    }
   ],
   "source": [
    "if not os.path.exists(data_folder_path):\n",
    "\n",
    "    os.makedirs(data_folder_path)\n",
    "    print(f'Downloading data from Google Drive to {data_folder_path}')\n",
    "    gdown.download_folder(data_url,output=data_folder_path, quiet=True, use_cookies=False)\n",
    "else:\n",
    "    print(f'Directory already exists: {data_folder_path}')"
   ]
  },
  {
   "cell_type": "code",
   "execution_count": 5,
   "id": "7d4689b1",
   "metadata": {},
   "outputs": [],
   "source": [
    "start_date = '2005-01-01'\n",
    "end_date = '2020-12-31'"
   ]
  },
  {
   "cell_type": "code",
   "execution_count": 7,
   "id": "789000dc",
   "metadata": {},
   "outputs": [
    {
     "data": {
      "text/html": [
       "<div>\n",
       "<style scoped>\n",
       "    .dataframe tbody tr th:only-of-type {\n",
       "        vertical-align: middle;\n",
       "    }\n",
       "\n",
       "    .dataframe tbody tr th {\n",
       "        vertical-align: top;\n",
       "    }\n",
       "\n",
       "    .dataframe thead th {\n",
       "        text-align: right;\n",
       "    }\n",
       "</style>\n",
       "<table border=\"1\" class=\"dataframe\">\n",
       "  <thead>\n",
       "    <tr style=\"text-align: right;\">\n",
       "      <th></th>\n",
       "      <th>Unnamed: 0</th>\n",
       "      <th>headline</th>\n",
       "      <th>url</th>\n",
       "      <th>publisher</th>\n",
       "      <th>date</th>\n",
       "      <th>stock</th>\n",
       "    </tr>\n",
       "  </thead>\n",
       "  <tbody>\n",
       "    <tr>\n",
       "      <th>0</th>\n",
       "      <td>2</td>\n",
       "      <td>Agilent Technologies Announces Pricing of $5……...</td>\n",
       "      <td>http://www.gurufocus.com/news/1153187/agilent-...</td>\n",
       "      <td>GuruFocus</td>\n",
       "      <td>2020-06-01 00:00:00</td>\n",
       "      <td>A</td>\n",
       "    </tr>\n",
       "    <tr>\n",
       "      <th>1</th>\n",
       "      <td>3</td>\n",
       "      <td>Agilent (A) Gears Up for Q2 Earnings: What's i...</td>\n",
       "      <td>http://www.zacks.com/stock/news/931205/agilent...</td>\n",
       "      <td>Zacks</td>\n",
       "      <td>2020-05-18 00:00:00</td>\n",
       "      <td>A</td>\n",
       "    </tr>\n",
       "    <tr>\n",
       "      <th>2</th>\n",
       "      <td>4</td>\n",
       "      <td>J.P. Morgan Asset Management Announces Liquida...</td>\n",
       "      <td>http://www.gurufocus.com/news/1138923/jp-morga...</td>\n",
       "      <td>GuruFocus</td>\n",
       "      <td>2020-05-15 00:00:00</td>\n",
       "      <td>A</td>\n",
       "    </tr>\n",
       "    <tr>\n",
       "      <th>3</th>\n",
       "      <td>5</td>\n",
       "      <td>Pershing Square Capital Management, L.P. Buys ...</td>\n",
       "      <td>http://www.gurufocus.com/news/1138704/pershing...</td>\n",
       "      <td>GuruFocus</td>\n",
       "      <td>2020-05-15 00:00:00</td>\n",
       "      <td>A</td>\n",
       "    </tr>\n",
       "    <tr>\n",
       "      <th>4</th>\n",
       "      <td>6</td>\n",
       "      <td>Agilent Awards Trilogy Sciences with a Golden ...</td>\n",
       "      <td>http://www.gurufocus.com/news/1134012/agilent-...</td>\n",
       "      <td>GuruFocus</td>\n",
       "      <td>2020-05-12 00:00:00</td>\n",
       "      <td>A</td>\n",
       "    </tr>\n",
       "  </tbody>\n",
       "</table>\n",
       "</div>"
      ],
      "text/plain": [
       "   Unnamed: 0                                           headline  \\\n",
       "0           2  Agilent Technologies Announces Pricing of $5……...   \n",
       "1           3  Agilent (A) Gears Up for Q2 Earnings: What's i...   \n",
       "2           4  J.P. Morgan Asset Management Announces Liquida...   \n",
       "3           5  Pershing Square Capital Management, L.P. Buys ...   \n",
       "4           6  Agilent Awards Trilogy Sciences with a Golden ...   \n",
       "\n",
       "                                                 url  publisher  \\\n",
       "0  http://www.gurufocus.com/news/1153187/agilent-...  GuruFocus   \n",
       "1  http://www.zacks.com/stock/news/931205/agilent...      Zacks   \n",
       "2  http://www.gurufocus.com/news/1138923/jp-morga...  GuruFocus   \n",
       "3  http://www.gurufocus.com/news/1138704/pershing...  GuruFocus   \n",
       "4  http://www.gurufocus.com/news/1134012/agilent-...  GuruFocus   \n",
       "\n",
       "                  date stock  \n",
       "0  2020-06-01 00:00:00     A  \n",
       "1  2020-05-18 00:00:00     A  \n",
       "2  2020-05-15 00:00:00     A  \n",
       "3  2020-05-15 00:00:00     A  \n",
       "4  2020-05-12 00:00:00     A  "
      ]
     },
     "execution_count": 7,
     "metadata": {},
     "output_type": "execute_result"
    }
   ],
   "source": [
    "headlines_data = pd.read_csv('genie_data/raw_partner_headlines.csv')\n",
    "headlines_data.head()"
   ]
  },
  {
   "cell_type": "code",
   "execution_count": null,
   "id": "ead94fba",
   "metadata": {},
   "outputs": [
    {
     "data": {
      "text/plain": [
       "(1845559, 6)"
      ]
     },
     "execution_count": 8,
     "metadata": {},
     "output_type": "execute_result"
    }
   ],
   "source": [
    "headlines_data.shape"
   ]
  },
  {
   "cell_type": "code",
   "execution_count": 9,
   "id": "60a51fe9",
   "metadata": {},
   "outputs": [],
   "source": [
    "headlines_data['date'] = pd.to_datetime(headlines_data['date'])\n",
    "headlines_data['year'] = headlines_data['date'].dt.year\n"
   ]
  },
  {
   "cell_type": "code",
   "execution_count": 10,
   "id": "17254e88",
   "metadata": {},
   "outputs": [],
   "source": [
    "headlines_data = headlines_data[(headlines_data['year'] >= 2005) & (headlines_data['year'] <= 2020)]"
   ]
  },
  {
   "cell_type": "code",
   "execution_count": 11,
   "id": "ebce9ebe",
   "metadata": {},
   "outputs": [
    {
     "data": {
      "text/plain": [
       "(1845558, 7)"
      ]
     },
     "execution_count": 11,
     "metadata": {},
     "output_type": "execute_result"
    }
   ],
   "source": [
    "headlines_data.shape"
   ]
  },
  {
   "cell_type": "code",
   "execution_count": 12,
   "id": "8a02f31c",
   "metadata": {},
   "outputs": [],
   "source": [
    "# Removes any duplicates from the dataset.\n",
    "headlines_data = headlines_data.drop_duplicates(subset=['headline', 'stock', 'date'], keep='first')"
   ]
  },
  {
   "cell_type": "code",
   "execution_count": 13,
   "id": "92bb6a0d",
   "metadata": {},
   "outputs": [
    {
     "data": {
      "text/plain": [
       "(1822715, 7)"
      ]
     },
     "execution_count": 13,
     "metadata": {},
     "output_type": "execute_result"
    }
   ],
   "source": [
    "headlines_data.shape"
   ]
  },
  {
   "cell_type": "code",
   "execution_count": 14,
   "id": "c8404275",
   "metadata": {},
   "outputs": [],
   "source": [
    "def filter_records(df, stock, possible_phrases):\n",
    "    \"\"\"\n",
    "    This fucntion helps to return new dataframe with the relacnet news.\n",
    "    \"\"\"\n",
    "\n",
    "    search_phrase = \" |  \".join(possible_phrases)\n",
    "    new_df = df.loc[\n",
    "        (df[\"stock\"] == stock)\n",
    "        | (headlines_data[\"headline\"].str.contains(search_phrase, case=False))\n",
    "    ]\n",
    "    new_df = new_df.reset_index().sort_values(by='date')\n",
    "    return new_df[['date', 'headline']]\n",
    "\n",
    "\n"
   ]
  },
  {
   "cell_type": "code",
   "execution_count": 15,
   "id": "f315d767",
   "metadata": {},
   "outputs": [],
   "source": [
    "# apply filter to each ticker.\n",
    "\n",
    "ENPH_headlines    = filter_records(headlines_data,\"ENPH\",[\"Enphase Energy Inc\",\"Enphase Energy\",\"ENPH\"])\n",
    "KEY_headlines     = filter_records(headlines_data,\"KEY\",[\"KeyCorp\",\"KeyBank\"])\n",
    "DAL_headlines     = filter_records(headlines_data,\"DAL\",[\"Delta Airlines Corp\",\"Delta Airlines\",\"DEL\"])\n",
    "LNC_headlines     = filter_records(headlines_data,\"LNC\",[\"Lincoln National Corp\",\"Lincoln National\",\"LNC\"])\n",
    "ETSY_headlines    = filter_records(headlines_data,\"ETSY\",[\"Etsy Inc\",\"Etsy\"])\n",
    "\n",
    "XEL_headlines     = filter_records(headlines_data,\"XEL\",[\"Xcel Energy Inc\",\"Xcel Energy\",\"XEL\"])\n",
    "PG_headlines      = filter_records(headlines_data,\"PG\",[\"P&G\",\"Procter & Gamble Co\",\"Procter & Gamble\",\"PG\"])\n",
    "LNT_headlines     = filter_records(headlines_data,\"LNT\",[\"Alliant\",\"Alliant Energy\",\"Alliant Energy Corporation\",\"LNT\"])\n",
    "PEP_headlines     = filter_records(headlines_data,\"PEP\",[\"PepsiCo\"])\n",
    "D_headlines       = filter_records(headlines_data,\"D\",[\"Dominion Energy Inc\",\"Dominion Energy\"])"
   ]
  },
  {
   "cell_type": "code",
   "execution_count": 16,
   "id": "c48c629a",
   "metadata": {},
   "outputs": [],
   "source": [
    "def process_sentence(sentence):\n",
    "    \"\"\"\n",
    "    Process the sentence to convert to lowercase, remove digits, puntuation, and stopwords.\n",
    "    \"\"\"\n",
    "\n",
    "    l_sentence = sentence.lower()                       # Converts the sentence to lowercase.\n",
    "    rd_sentence = re.sub(r'\\d+', '', l_sentence)        # Remove the digits from the sentence.\n",
    "    plain_sentence = rd_sentence.translate(str.maketrans(dict.fromkeys(string.punctuation)))\n",
    "    plain_sentence = plain_sentence.strip()\n",
    "    return remove_stopwords(plain_sentence)\n"
   ]
  },
  {
   "cell_type": "code",
   "execution_count": 17,
   "id": "0b21127d",
   "metadata": {},
   "outputs": [],
   "source": [
    "def get_sentiment_polarity(sentence):\n",
    "    \"\"\"\n",
    "    Returns the sentiment polarity of the sentence provided.\n",
    "    \"\"\"\n",
    "\n",
    "    processes_sentence = process_sentence(sentence)\n",
    "    return TextBlob(processes_sentence).sentiment.polarity"
   ]
  },
  {
   "cell_type": "code",
   "execution_count": 18,
   "id": "99ec9c1b",
   "metadata": {},
   "outputs": [],
   "source": [
    "ENPH_headlines[\"SentimentScore\"]   = ENPH_headlines[\"headline\"].apply(get_sentiment_polarity)\n",
    "KEY_headlines[\"SentimentScore\"]    = KEY_headlines[\"headline\"].apply(get_sentiment_polarity)\n",
    "DAL_headlines[\"SentimentScore\"]    = DAL_headlines[\"headline\"].apply(get_sentiment_polarity)\n",
    "LNC_headlines[\"SentimentScore\"]    = LNC_headlines[\"headline\"].apply(get_sentiment_polarity)\n",
    "ETSY_headlines[\"SentimentScore\"]   = ETSY_headlines[\"headline\"].apply(get_sentiment_polarity)\n",
    "\n",
    "\n",
    "XEL_headlines[\"SentimentScore\"]    = XEL_headlines[\"headline\"].apply(get_sentiment_polarity)\n",
    "PG_headlines[\"SentimentScore\"]     = PG_headlines[\"headline\"].apply(get_sentiment_polarity)\n",
    "LNT_headlines[\"SentimentScore\"]    = LNT_headlines[\"headline\"].apply(get_sentiment_polarity)\n",
    "PEP_headlines[\"SentimentScore\"]    = PEP_headlines[\"headline\"].apply(get_sentiment_polarity)\n",
    "D_headlines[\"SentimentScore\"]      = D_headlines[\"headline\"].apply(get_sentiment_polarity)"
   ]
  },
  {
   "cell_type": "code",
   "execution_count": null,
   "id": "c8bec23d",
   "metadata": {},
   "outputs": [],
   "source": [
    "# Generate a intermediate dataframe with continuous dates in them.\n",
    "\n",
    "dates_list = pd.date_range(start=start_date, end=end_date)"
   ]
  }
 ],
 "metadata": {
  "kernelspec": {
   "display_name": "summerresearch2025",
   "language": "python",
   "name": "python3"
  },
  "language_info": {
   "codemirror_mode": {
    "name": "ipython",
    "version": 3
   },
   "file_extension": ".py",
   "mimetype": "text/x-python",
   "name": "python",
   "nbconvert_exporter": "python",
   "pygments_lexer": "ipython3",
   "version": "3.11.7"
  }
 },
 "nbformat": 4,
 "nbformat_minor": 5
}
